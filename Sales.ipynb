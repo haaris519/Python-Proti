{
  "nbformat": 4,
  "nbformat_minor": 0,
  "metadata": {
    "colab": {
      "provenance": [],
      "authorship_tag": "ABX9TyM5UCbHFUVjje/FwHe2++tx",
      "include_colab_link": true
    },
    "kernelspec": {
      "name": "python3",
      "display_name": "Python 3"
    },
    "language_info": {
      "name": "python"
    }
  },
  "cells": [
    {
      "cell_type": "markdown",
      "metadata": {
        "id": "view-in-github",
        "colab_type": "text"
      },
      "source": [
        "<a href=\"https://colab.research.google.com/github/haaris519/Python-Proti/blob/main/Sales.ipynb\" target=\"_parent\"><img src=\"https://colab.research.google.com/assets/colab-badge.svg\" alt=\"Open In Colab\"/></a>"
      ]
    },
    {
      "cell_type": "code",
      "execution_count": 2,
      "metadata": {
        "colab": {
          "base_uri": "https://localhost:8080/"
        },
        "id": "Ao-SJO3nV0KS",
        "outputId": "40809c92-4034-41ce-a8e9-f1eb1ba382d1"
      },
      "outputs": [
        {
          "output_type": "stream",
          "name": "stdout",
          "text": [
            "\n",
            "--- DATA CLEANING ---\n",
            "Removed 0 rows with missing values.\n",
            "\n",
            "--- KEY METRICS ---\n",
            "Total Sales: $947,313.55\n",
            "Average Sale per Transaction: $4,736.57\n",
            "Total Units Sold: 966\n",
            "\n",
            "--- TOP PRODUCTS ---\n",
            "Product\n",
            "Laptop        282688.60\n",
            "Mouse         220724.14\n",
            "Keyboard      165610.81\n",
            "Monitor       153699.27\n",
            "Headphones    124590.73\n",
            "\n",
            "--- SALES OVER TIME ---\n",
            "\n",
            "Summary report saved as 'summary_report.csv'\n",
            "\n",
            "All analysis complete. Charts saved as PNG files. You can now include these in your portfolio or report.\n"
          ]
        }
      ],
      "source": [
        "# sales_data_analysis.py\n",
        "\n",
        "\"\"\"\n",
        "It includes data cleaning, exploration, KPI calculation,\n",
        "data visualization, and report generation.\n",
        "\n",
        "Tools used:\n",
        "- pandas (data manipulation)\n",
        "- numpy (numerical computation)\n",
        "- matplotlib, seaborn (visualization)\n",
        "\n",
        "Author: Shaik Haaris Saad\n",
        "\"\"\"\n",
        "\n",
        "import pandas as pd\n",
        "import numpy as np\n",
        "import matplotlib.pyplot as plt\n",
        "import seaborn as sns\n",
        "import os\n",
        "sns.set(style=\"whitegrid\")\n",
        "data_path = '/content/sales_data.csv'\n",
        "if not os.path.exists(data_path):\n",
        "    raise FileNotFoundError(f\"The file '{data_path}' was not found.\")\n",
        "\n",
        "data = pd.read_csv(data_path)\n",
        "\n",
        "print(\"\\n--- DATA CLEANING ---\")\n",
        "initial_shape = data.shape\n",
        "data.dropna(inplace=True)\n",
        "print(f\"Removed {initial_shape[0] - data.shape[0]} rows with missing values.\")\n",
        "if 'Date' in data.columns:\n",
        "    data['Date'] = pd.to_datetime(data['Date'], errors='coerce')\n",
        "    data.dropna(subset=['Date'], inplace=True)\n",
        "else:\n",
        "    raise ValueError(\"Missing 'Date' column in dataset.\")\n",
        "data['Quantity'] = pd.to_numeric(data['Quantity'], errors='coerce')\n",
        "data['Unit_Price'] = pd.to_numeric(data['Unit_Price'], errors='coerce')\n",
        "data.dropna(subset=['Quantity', 'Unit_Price'], inplace=True)\n",
        "data['Total_Sale'] = data['Quantity'] * data['Unit_Price']\n",
        "print(\"\\n--- KEY METRICS ---\")\n",
        "total_sales = data['Total_Sale'].sum()\n",
        "print(f\"Total Sales: ${total_sales:,.2f}\")\n",
        "avg_sale = data['Total_Sale'].mean()\n",
        "print(f\"Average Sale per Transaction: ${avg_sale:,.2f}\")\n",
        "total_units = data['Quantity'].sum()\n",
        "print(f\"Total Units Sold: {total_units:,}\")\n",
        "print(\"\\n--- TOP PRODUCTS ---\")\n",
        "top_products = data.groupby('Product')['Total_Sale'].sum().sort_values(ascending=False).head(5)\n",
        "print(top_products.to_string())\n",
        "print(\"\\n--- SALES OVER TIME ---\")\n",
        "data['Month'] = data['Date'].dt.to_period('M')\n",
        "sales_over_time = data.groupby('Month')['Total_Sale'].sum()\n",
        "plt.figure(figsize=(12,6))\n",
        "sales_over_time.plot(marker='o')\n",
        "plt.title('Monthly Sales Trend', fontsize=16)\n",
        "plt.ylabel('Total Sales ($)', fontsize=12)\n",
        "plt.xlabel('Month', fontsize=12)\n",
        "plt.xticks(rotation=45)\n",
        "plt.tight_layout()\n",
        "plt.savefig('sales_over_time.png')\n",
        "plt.close()\n",
        "plt.figure(figsize=(10,6))\n",
        "top_products.plot(kind='bar', color='skyblue')\n",
        "plt.title('Top 5 Products by Sales', fontsize=16)\n",
        "plt.ylabel('Total Sales ($)', fontsize=12)\n",
        "plt.xlabel('Product', fontsize=12)\n",
        "plt.xticks(rotation=30)\n",
        "plt.tight_layout()\n",
        "plt.savefig('top_products.png')\n",
        "plt.close()\n",
        "if 'Region' in data.columns:\n",
        "    region_sales = data.groupby('Region')['Total_Sale'].sum()\n",
        "    plt.figure(figsize=(8,8))\n",
        "    region_sales.plot(kind='pie', autopct='%1.1f%%', startangle=140)\n",
        "    plt.title('Sales Distribution by Region', fontsize=14)\n",
        "    plt.ylabel('')\n",
        "    plt.tight_layout()\n",
        "    plt.savefig('sales_by_region.png')\n",
        "    plt.close()\n",
        "else:\n",
        "    print(\"Warning: 'Region' column not found. Skipping regional analysis.\")\n",
        "\n",
        "summary = {\n",
        "    \"Total Sales ($)\": f\"${total_sales:,.2f}\",\n",
        "    \"Average Sale/Transaction ($)\": f\"${avg_sale:,.2f}\",\n",
        "    \"Total Units Sold\": f\"{total_units:,}\"\n",
        "}\n",
        "\n",
        "summary_df = pd.DataFrame(list(summary.items()), columns=[\"Metric\", \"Value\"])\n",
        "summary_df.to_csv('summary_report.csv', index=False)\n",
        "print(\"\\nSummary report saved as 'summary_report.csv'\")\n",
        "\n",
        "print(\"\\nAll analysis complete. Charts saved as PNG files. You can now include these in your portfolio or report.\")\n"
      ]
    }
  ]
}